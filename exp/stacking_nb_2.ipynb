{
 "cells": [
  {
   "cell_type": "code",
   "execution_count": 1,
   "id": "d5403e2b-6e81-4d71-8536-92460c6e2319",
   "metadata": {},
   "outputs": [
    {
     "data": {
      "text/html": [
       "<style type='text/css'>\n",
       ".datatable table.frame { margin-bottom: 0; }\n",
       ".datatable table.frame thead { border-bottom: none; }\n",
       ".datatable table.frame tr.coltypes td {  color: #FFFFFF;  line-height: 6px;  padding: 0 0.5em;}\n",
       ".datatable .bool    { background: #DDDD99; }\n",
       ".datatable .object  { background: #565656; }\n",
       ".datatable .int     { background: #5D9E5D; }\n",
       ".datatable .float   { background: #4040CC; }\n",
       ".datatable .str     { background: #CC4040; }\n",
       ".datatable .time    { background: #40CC40; }\n",
       ".datatable .row_index {  background: var(--jp-border-color3);  border-right: 1px solid var(--jp-border-color0);  color: var(--jp-ui-font-color3);  font-size: 9px;}\n",
       ".datatable .frame tbody td { text-align: left; }\n",
       ".datatable .frame tr.coltypes .row_index {  background: var(--jp-border-color0);}\n",
       ".datatable th:nth-child(2) { padding-left: 12px; }\n",
       ".datatable .hellipsis {  color: var(--jp-cell-editor-border-color);}\n",
       ".datatable .vellipsis {  background: var(--jp-layout-color0);  color: var(--jp-cell-editor-border-color);}\n",
       ".datatable .na {  color: var(--jp-cell-editor-border-color);  font-size: 80%;}\n",
       ".datatable .sp {  opacity: 0.25;}\n",
       ".datatable .footer { font-size: 9px; }\n",
       ".datatable .frame_dimensions {  background: var(--jp-border-color3);  border-top: 1px solid var(--jp-border-color0);  color: var(--jp-ui-font-color3);  display: inline-block;  opacity: 0.6;  padding: 1px 10px 1px 5px;}\n",
       "</style>\n"
      ],
      "text/plain": [
       "<IPython.core.display.HTML object>"
      ]
     },
     "metadata": {},
     "output_type": "display_data"
    }
   ],
   "source": [
    "import cudf\n",
    "from cuml import ForestInference\n",
    "from cuml.preprocessing.TargetEncoder import TargetEncoder\n",
    "from catboost import CatBoostClassifier, CatBoostRanker, Pool\n",
    "\n",
    "import numpy as np # linear algebra\n",
    "import pandas as pd # data processing, CSV file I/O (e.g. pd.read_csv)\n",
    "import random\n",
    "import gc\n",
    "from sklearn.model_selection import train_test_split\n",
    "from sklearn.model_selection import StratifiedKFold\n",
    "from sklearn.model_selection import GroupShuffleSplit\n",
    "from sklearn.preprocessing import LabelEncoder\n",
    "from sklearn.preprocessing import MinMaxScaler\n",
    "import lightgbm as lgb\n",
    "import datetime\n",
    "import itertools\n",
    "import os\n",
    "from contextlib import redirect_stdout\n",
    "from tqdm.notebook import tqdm\n",
    "tqdm.pandas()\n",
    "\n",
    "import warnings\n",
    "warnings.filterwarnings('ignore')\n",
    "\n",
    "#カラム内の文字数。デフォルトは50だった\n",
    "pd.set_option(\"display.max_colwidth\", 100)\n",
    "\n",
    "#行数\n",
    "pd.set_option(\"display.max_rows\", 500)\n",
    "\n",
    "#列数\n",
    "pd.set_option(\"display.max_columns\", 300)\n",
    "\n",
    "def apk(actual, predicted, k=10):\n",
    "    if len(predicted) > k:\n",
    "        predicted = predicted[:k]\n",
    "\n",
    "    score = 0.0\n",
    "    num_hits = 0.0\n",
    "\n",
    "    for i, p in enumerate(predicted):\n",
    "        if p in actual and p not in predicted[:i]:\n",
    "            num_hits += 1.0\n",
    "            score += num_hits / (i + 1.0)\n",
    "\n",
    "    if not actual:\n",
    "        return 0.0\n",
    "\n",
    "    return score / min(len(actual), k)\n",
    "\n",
    "\n",
    "def mapk(actual, predicted, k=10):\n",
    "    return np.mean([apk(a, p, k) for a, p in zip(actual, predicted)])\n",
    "\n",
    "def apk_list(actual, predicted, k=10):\n",
    "    return [apk(a,p,k) for a,p in zip(actual, predicted)]\n",
    "\n",
    "# https://www.kaggle.com/tkm2261/fast-pandas-left-join-357x-faster-than-pd-merge\n",
    "# add mulple index option\n",
    "def fast_left_join(df, join_df, on):\n",
    "    if isinstance(on, list):\n",
    "        return pd.concat(\n",
    "            [\n",
    "                df.reset_index(drop=True),\n",
    "                join_df.reindex(pd.MultiIndex.from_tuples(tuple(map(tuple, df[on].values)), names=on)).reset_index(drop=True)\n",
    "            ],\n",
    "            axis=1,\n",
    "        )        \n",
    "    else:\n",
    "        return pd.concat(\n",
    "            [\n",
    "                df.reset_index(drop=True),\n",
    "                join_df.reindex(df[on].values).reset_index(drop=True),\n",
    "            ],\n",
    "            axis=1,\n",
    "        )\n",
    "\n",
    "def reduce_mem_usage(df):\n",
    "    start_mem = df.memory_usage().sum() / 1024 ** 2\n",
    "    for i, col in enumerate(df.columns):\n",
    "        try:\n",
    "            col_type = df[col].dtype\n",
    "\n",
    "            if col_type != object:\n",
    "                c_min = df[col].min()\n",
    "                c_max = df[col].max()\n",
    "                if str(col_type)[:3] == \"int\":\n",
    "                    if c_min > np.iinfo(np.int8).min and c_max < np.iinfo(np.int8).max:\n",
    "                        df[col] = df[col].astype(np.int8)\n",
    "                    elif (\n",
    "                        c_min > np.iinfo(np.int16).min\n",
    "                        and c_max < np.iinfo(np.int16).max\n",
    "                    ):\n",
    "                        df[col] = df[col].astype(np.int16)\n",
    "                    elif (\n",
    "                        c_min > np.iinfo(np.int32).min\n",
    "                        and c_max < np.iinfo(np.int32).max\n",
    "                    ):\n",
    "                        df[col] = df[col].astype(np.int32)\n",
    "                    elif (\n",
    "                        c_min > np.iinfo(np.int64).min\n",
    "                        and c_max < np.iinfo(np.int64).max\n",
    "                    ):\n",
    "                        df[col] = df[col].astype(np.int32)\n",
    "                else:\n",
    "                    if (\n",
    "                        c_min > np.finfo(np.float16).min\n",
    "                        and c_max < np.finfo(np.float16).max\n",
    "                    ):\n",
    "                        df[col] = df[col].astype(np.float32)\n",
    "                    elif (\n",
    "                        c_min > np.finfo(np.float32).min\n",
    "                        and c_max < np.finfo(np.float32).max\n",
    "                    ):\n",
    "                        df[col] = df[col].astype(np.float32)\n",
    "                    else:\n",
    "                        df[col] = df[col].astype(np.float32)\n",
    "        except ValueError:\n",
    "            continue\n",
    "\n",
    "    end_mem = df.memory_usage().sum() / 1024 ** 2\n",
    "    # print(\"Memory usage after optimization is: {:.2f} MB\".format(end_mem))\n",
    "    # print(\"Decreased by {:.1f}%\".format(100 * (start_mem - end_mem) / start_mem))\n",
    "\n",
    "    return df"
   ]
  },
  {
   "cell_type": "code",
   "execution_count": 2,
   "id": "fb4f6d90-033d-4e22-8793-742a309879da",
   "metadata": {},
   "outputs": [],
   "source": [
    "def calc_mapk(preds, df_agg_val_1):\n",
    "    tmp = preds.groupby(\"customer_id\").head(12)\n",
    "    tmp = tmp.groupby(\"customer_id\")[\"article_id\"].apply(list).reset_index().rename(columns={\"article_id\":\"preds\"})\n",
    "    tmp = tmp.merge(df_agg_val_1, how=\"left\", on=\"customer_id\").rename(columns={\"article_id\":\"gts\"})\n",
    "    mapk_val = mapk(tmp[\"gts\"], tmp[\"preds\"])\n",
    "    print(f\"mapk:{mapk_val:.5f}\")"
   ]
  },
  {
   "cell_type": "code",
   "execution_count": 3,
   "id": "6e5b1581-947d-4043-a782-674a4afa6ee1",
   "metadata": {},
   "outputs": [],
   "source": [
    "tran_dtypes = {\n",
    "    \"t_dat\": \"str\",\n",
    "    \"customer_id\": \"str\",\n",
    "    \"article_id\": \"int\",\n",
    "    \"product_code\": \"int\",\n",
    "    \"price\": \"float\",\n",
    "    \"sales_channel_id\": \"int\",\n",
    "}\n",
    "art_dtypes = {\n",
    "    \"article_id\": \"int\",\n",
    "    \"product_code\": \"int\",\n",
    "    \"product_type_no\": \"int\",\n",
    "    \"product_group_name\": \"str\",\n",
    "    \"graphical_appearance_no\": \"int\",\n",
    "    \"colour_group_code\": \"int\",\n",
    "    \"perceived_colour_value_id\": \"int\",\n",
    "    \"perceived_colour_master_id\": \"int\",\n",
    "    \"department_no\": \"int\",\n",
    "    \"index_code\": \"str\",\n",
    "    \"index_group_no\": \"int\",\n",
    "    \"section_no\": \"int\",\n",
    "    \"garment_group_no\": \"int\",\n",
    "}\n",
    "cust_dtypes = {\"customer_id\": \"str\"}"
   ]
  },
  {
   "cell_type": "markdown",
   "id": "6d7a1ac4-a16c-41da-9d58-aaa891e16386",
   "metadata": {},
   "source": [
    "## Ensemble"
   ]
  },
  {
   "cell_type": "code",
   "execution_count": 4,
   "id": "d114bb0c-b14e-424a-8de4-25cbeb16c86f",
   "metadata": {},
   "outputs": [],
   "source": [
    "df_agg_val_1 = pd.read_pickle(\"../exp_iwata/cache/v2//df_agg_val_1_2020-09-23.pkl\")"
   ]
  },
  {
   "cell_type": "code",
   "execution_count": 5,
   "id": "b99e8547-2c86-477b-a782-13db6d5f873b",
   "metadata": {},
   "outputs": [],
   "source": [
    "df_agg_val_1 = df_agg_val_1.rename(columns={\"article_id\": \"gts\"})"
   ]
  },
  {
   "cell_type": "markdown",
   "id": "30a8e936-31d3-400c-84fa-779397805fc1",
   "metadata": {},
   "source": [
    "# Read OOF"
   ]
  },
  {
   "cell_type": "markdown",
   "id": "4568f232-db28-4a68-8b16-eebc44c16fb7",
   "metadata": {},
   "source": [
    "# Stacking"
   ]
  },
  {
   "cell_type": "code",
   "execution_count": 8,
   "id": "f6bb86b2-7de6-4416-9d3d-a4c5317a2da3",
   "metadata": {},
   "outputs": [],
   "source": [
    "path = \"../input/h-and-m-personalized-fashion-recommendations/\"\n",
    "\n",
    "df_trans = pd.read_csv(path + \"transactions_train.csv\", dtype=tran_dtypes)\n",
    "df_trans[\"t_dat\"] = pd.to_datetime(df_trans[\"t_dat\"], format=\"%Y-%m-%d\")\n",
    "df_trans = df_trans.drop_duplicates([\"customer_id\", \"article_id\", \"t_dat\"])\n",
    "df_trans[\"article_id\"] = df_trans[\"article_id\"].astype(str).str.zfill(10)\n",
    "\n",
    "df_trans_week1 = df_trans[df_trans.t_dat > datetime.datetime(2020, 9, 15)]\n",
    "df_trans_week1[\"target\"] = 1\n",
    "df_trans_week1 = df_trans_week1[['customer_id', 'article_id', \"target\"]]"
   ]
  },
  {
   "cell_type": "code",
   "execution_count": 9,
   "id": "bbc4d74b-ad85-4f27-99bf-203bbab88acd",
   "metadata": {},
   "outputs": [],
   "source": [
    "df_art = pd.read_csv(path + \"articles.csv\", dtype=art_dtypes)\n",
    "df_art[\"article_id\"] = df_art[\"article_id\"].astype(str).str.zfill(10)\n",
    "le = LabelEncoder()\n",
    "le.fit(df_art[\"index_code\"].unique())\n",
    "df_art[\"index_code\"] = le.transform(df_art[\"index_code\"])\n",
    "le = LabelEncoder()\n",
    "le.fit(df_art[\"product_group_name\"].unique())\n",
    "df_art[\"product_group_name\"] = le.transform(df_art[\"product_group_name\"])\n",
    "\n",
    "df_cust = pd.read_csv(path + \"customers.csv\", dtype=cust_dtypes)\n",
    "df_cust[\"age\"] = df_cust[\"age\"].fillna(df_cust[\"age\"].mean())\n",
    "\n",
    "# age_id\n",
    "df_cust[\"age\"] = df_cust[\"age\"].astype(int)\n",
    "customer_age_gorup = pd.read_csv(\"../save/customer_age_gorup.csv\")\n",
    "df_cust = df_cust.merge(customer_age_gorup, how=\"left\", on=[\"age\"])\n",
    "df_cust[\"age_2\"] = df_cust[\"age\"]\n",
    "df_cust.loc[df_cust[\"age\"] >= 61, \"age_2\"] = 61\n",
    "df_cust[\"age_id_1\"] = df_cust[\"age_2\"] // 10\n",
    "df_cust[\"age_id_2\"] = df_cust[\"age_2\"] // 5\n",
    "df_cust = df_cust.drop(columns=[\"age_2\"])\n",
    "\n",
    "df_cust[[\"FN\", \"Active\"]] = df_cust[[\"FN\", \"Active\"]].fillna(0)\n",
    "df_cust[\"club_member_status\"] = df_cust[\"club_member_status\"].apply(\n",
    "    lambda x: 1 if x == \"ACTIVE\" else 0\n",
    ")\n",
    "df_cust[\"fashion_news_frequency\"] = df_cust[\"fashion_news_frequency\"].apply(\n",
    "    lambda x: 0 if x == \"NONE\" else 1\n",
    ")\n",
    "\n",
    "# postal_code_ce\n",
    "df_cust[\"postal_code_ce\"] = df_cust[\"postal_code\"].map(\n",
    "    df_cust[\"postal_code\"].value_counts()\n",
    ")\n",
    "\n",
    "# postal_code, 10以下をまとめる\n",
    "postal_code_cnt = df_cust[\"postal_code\"].value_counts().reset_index()\n",
    "postal_code_cnt.columns = [\"postal_code\", \"cnt\"]\n",
    "\n",
    "code_map = {\n",
    "    i: 0 for i in postal_code_cnt[postal_code_cnt.cnt <= 10][\"postal_code\"].values\n",
    "}\n",
    "for i, code in enumerate(\n",
    "    postal_code_cnt[postal_code_cnt.cnt > 10][\"postal_code\"].values\n",
    "):\n",
    "    code_map[code] = i + 1\n",
    "\n",
    "df_cust[\"postal_code\"] = df_cust[\"postal_code\"].map(code_map)\n",
    "\n",
    "df_art.index = df_art.article_id\n",
    "df_art.index.name = \"article_id\"\n",
    "df_art = df_art.drop(columns=[\"article_id\"])\n",
    "\n",
    "df_cust.index = df_cust.customer_id\n",
    "df_cust.index.name = \"customer_id\"\n",
    "df_cust = df_cust.drop(columns=[\"customer_id\"])"
   ]
  },
  {
   "cell_type": "markdown",
   "id": "96b4a22b-74e1-435b-928a-6893c67285bf",
   "metadata": {},
   "source": [
    "## Read OOF"
   ]
  },
  {
   "cell_type": "code",
   "execution_count": 10,
   "id": "80578e73-617f-4b63-99b9-3ff718563098",
   "metadata": {},
   "outputs": [],
   "source": [
    "# sub = pd.read_pickle(\"../input/nari/sub_top200/sub_exp_lgbm_007_20220505112349_0.0374_top30.pickle\")\n",
    "# sub = sub.groupby(\"customer_id\").head(12)\n",
    "# sub = sub.groupby(\"customer_id\")[\"article_id\"].apply(list)\n",
    "# sub = sub.reset_index().rename(columns={\"article_id\":\"prediction\"})\n",
    "# sub.to_csv(\"../sub/sub_exp_lgbm_007_20220505112349_0.0374.csv\", index=False)"
   ]
  },
  {
   "cell_type": "code",
   "execution_count": 11,
   "id": "2a282e8c-f770-478d-a60d-30d6274e8c6d",
   "metadata": {},
   "outputs": [],
   "source": [
    "def read_oof(exp_name):\n",
    "    if exp_name in [\n",
    "        \"myaun_cat_v4-3\",\n",
    "        \"cat_v4-3_decay_popular_sample\",\n",
    "        \"cat_v7-2_random_weighted\",\n",
    "        \"cat_v4-3_short\",\n",
    "        \"cat_v4-3-long-tail\",\n",
    "        \"cat_v12\"\n",
    "    ]:\n",
    "        oof = pd.read_pickle(exps[exp_name][\"oof\"])\n",
    "        oof[\"article_id\"] = oof[\"article_id\"].astype(str).str.zfill(10)\n",
    "    elif exp_name == \"nari_exp_lgbm_007\":\n",
    "        oof = pd.read_feather(exps[exp_name][\"oof\"])\n",
    "        oof = oof.rename(columns={\"oof\":\"pred\"})\n",
    "        oof = oof[~(oof.pred==-1.0)]\n",
    "        oof = oof.sort_values([\"customer_id\", \"pred\"], ascending=False)\n",
    "    elif exp_name == \"nari_exp_lgbm_007_fix\":\n",
    "        oof = pd.read_feather(exps[exp_name][\"oof\"])\n",
    "        oof = oof.rename(columns={\"oof\":\"pred\"})\n",
    "        oof = oof.drop(columns=[\"oof_rank\"])\n",
    "        oof = oof.sort_values([\"customer_id\", \"pred\"], ascending=False)\n",
    "    elif exp_name == \"iwata_exp05\":\n",
    "        oof = pd.read_csv(exps[exp_name][\"oof\"])\n",
    "        oof[\"article_id\"] = oof[\"article_id\"].astype(str).str.zfill(10)\n",
    "    elif exp_name == \"minguin_v28\": # フォーマットが違う, ブレンドには使える\n",
    "        oof = pd.read_csv(exps[exp_name][\"oof\"])\n",
    "        oof[\"LGBMRanker\"] = oof[\"LGBMRanker\"].str.split(\" \")\n",
    "    elif exp_name == \"minguin_v34\":\n",
    "        oof = pd.read_csv(exps[exp_name][\"oof\"])\n",
    "        oof = oof.rename(columns={\"preds\":\"pred\"})\n",
    "        oof[\"article_id\"] = oof[\"article_id\"].astype(str).str.zfill(10)\n",
    "        oof = oof.sort_values([\"customer_id\", \"pred\"], ascending=False)\n",
    "    elif exp_name == \"moro_sub1\":\n",
    "        oof = pd.read_pickle(exps[exp_name][\"oof\"])\n",
    "        oof = oof.drop(columns=[\"true\"])\n",
    "        oof = oof.sort_values([\"customer_id\", \"pred\"], ascending=False)\n",
    "    return oof\n",
    "\n",
    "exps = {\n",
    "    \"myaun_cat_v4-3\": {\n",
    "        \"lb\":0.0307,\n",
    "        \"cv\":0.03539,\n",
    "        \"oof\":\"../exp_iwata/cat_v4-3/df_ans_eval_mid1_-1.pkl\",\n",
    "        \"sub_pred\":\"../exp_iwata/cat_v4-3/df_ans_eval.pkl\",\n",
    "        \"sub_pred_top30\":\"../exp_iwata/cat_v4-3/df_ans_eval_top30.pkl\",\n",
    "        \"sub\":\"../sub/cat_v4-3_0.03539.csv\",\n",
    "    },\n",
    "    \"cat_v4-3_decay_popular_sample\": {\n",
    "        \"lb\":0.0306,\n",
    "        \"cv\":0.03542,\n",
    "        \"oof\":\"../exp_iwata/cat_v4-3_decay_popular_sample/df_ans_eval_mid1_-1.pkl\",\n",
    "        \"sub_pred\":\"../exp_iwata/cat_v4-3_decay_popular_sample/df_ans_eval.pkl\",\n",
    "        \"sub_pred_top30\": \"../exp_iwata/cat_v4-3_decay_popular_sample/df_ans_eval_top30.pkl\",\n",
    "        \"sub\":\"../sub/cat_v4-3_decay_popular_sample_0.03542.csv\",\n",
    "    },\n",
    "    # \"cat_v7-2_random_weighted\": {\n",
    "    #     \"lb\":None,\n",
    "    #     \"cv\":0.03525,\n",
    "    #     \"oof\":\"../exp_iwata/cat_v7-2_random_weighted/df_ans_eval_mid1_-1.pkl\",\n",
    "    #     \"sub_pred\":None,\n",
    "    #     \"sub_pred_top30\":None,\n",
    "    #     \"sub\":None,\n",
    "    # },\n",
    "    # \"cat_v4-3_short\": {\n",
    "    #     \"lb\":None,\n",
    "    #     \"cv\":0.03529,\n",
    "    #     \"oof\":\"../exp_iwata/cat_v4-3_short/df_ans_eval_mid1_-1.pkl\",\n",
    "    #     \"sub_pred\":None,\n",
    "    #     \"sub_pred_top30\":None,\n",
    "    #     \"sub\":None,\n",
    "    # },\n",
    "    # \"cat_v4-3-long-tail\": {\n",
    "    #     \"lb\":None,\n",
    "    #     \"cv\":0.03443,\n",
    "    #     \"oof\":\"../exp_iwata/cat_v4-3-long-tail/df_ans_eval_mid1_-1.pkl\",\n",
    "    #     \"sub_pred\":None,\n",
    "    #     \"sub_pred_top30\":None,\n",
    "    #     \"sub\":None,\n",
    "    # },\n",
    "    # \"cat_v12\": {\n",
    "    #     \"lb\":None,\n",
    "    #     \"cv\":0.03493,\n",
    "    #     \"oof\":\"../exp_iwata/cat_v12/df_ans_eval_mid1_-1.pkl\",\n",
    "    #     \"sub_pred\":None,\n",
    "    #     \"sub_pred_top30\":None,\n",
    "    #     \"sub\":None,\n",
    "    # },\n",
    "    \"nari_exp_lgbm_007\": {\n",
    "        \"lb\":0.0302,\n",
    "        \"cv\":0.0366,\n",
    "        \"oof\":\"../input/nari/oof_top200/oof_exp_lgbm_007_20220428230759_0.0366.feather\",\n",
    "        \"sub_pred\":\"../input/nari/sub_top200/sub_exp_lgbm_007_20220428230759_0.0366.feather\",\n",
    "        \"sub_pred_top30\": \"../input/nari/sub_top200/sub_exp_lgbm_007_20220428230759_0.0366_top30.pickle\",\n",
    "        \"sub\":\"../sub/exp_lgbm_007_20220425033232_0.0366.csv\",\n",
    "    },\n",
    "    \"nari_exp_lgbm_007_fix\": {\n",
    "        \"lb\":None,\n",
    "        \"cv\":0.0366,\n",
    "        \"oof\":\"../input/nari/oof_top200/oof_exp_lgbm_007_20220505112349_0.0374.feather\",\n",
    "        \"sub_pred\":\"../input/nari/sub_top200/sub_exp_lgbm_007_20220505112349_0.0374.feather\",\n",
    "        \"sub_pred_top30\": \"../input/nari/sub_top200/sub_exp_lgbm_007_20220505112349_0.0374_top30.pickle\",\n",
    "        \"sub\": \"../sub/sub_exp_lgbm_007_20220505112349_0.0374.csv\",\n",
    "    },\n",
    "    \"iwata_exp05\": {\n",
    "        \"lb\":0.0303,\n",
    "        \"cv\":0.3559,\n",
    "        \"oof\":\"../input/iwata/oof_top200/oof_exp05_2020-09-16.csv\",\n",
    "        \"sub_pred\":\"../input/iwata/sub_top200/oof_submission_exp05_2020-09-23.csv\",\n",
    "        \"sub_pred_top30\": \"../input/iwata/sub_top200/oof_submission_exp05_2020-09-23_top30.pickle\",\n",
    "        \"sub\":\"../sub/submission_exp05.csv\",\n",
    "    },\n",
    "    # \"minguin_v28\": {\n",
    "    #     \"lb\":0.0294,\n",
    "    #     \"cv\":0.03079,\n",
    "    #     \"oof\":\"../input/minguin/sub2/oof_h_m_v28_rerun_0294.csv\", \n",
    "    #     \"sub\":\"../input/minguin/sub2/submission_h_m_v28_rerun_0294.csv\",\n",
    "    # },\n",
    "    \"minguin_v34\": {\n",
    "        \"lb\":0.0293,\n",
    "        \"cv\":0.0314,\n",
    "        \"oof\": \"../input/minguin/sub2/oof_single_preds_h_m_single_v34_0314.csv\",\n",
    "        \"sub_pred\": \"../input/minguin/sub2/sub_single_preds_h_m_single_v34_0314.csv\",\n",
    "        \"sub_pred_top30\": \"../input/minguin/sub2/sub_single_preds_h_m_single_v34_0314_top30.pickle\",\n",
    "        \"sub\": \"../sub/submission_single_v34.csv\",\n",
    "    },\n",
    "    # \"moro_sub1\": {\n",
    "    #     \"lb\":0.0301,\n",
    "    #     \"cv\":0.03249,\n",
    "    #     \"oof\":\"../input/moro/sub1_fix/train_oof_train123_all.pickle\",\n",
    "    #     \"sub\":\"../input/moro/sub1/submission_lgb_train123_0.03249.csv\",\n",
    "    # },\n",
    "}"
   ]
  },
  {
   "cell_type": "code",
   "execution_count": 143,
   "id": "c6efc3a0-6102-4274-82f6-febaeff7420f",
   "metadata": {},
   "outputs": [],
   "source": [
    "os.makedirs(\"../share/oof_and_subs/\", exist_ok=True)"
   ]
  },
  {
   "cell_type": "code",
   "execution_count": null,
   "id": "71aa9684-4d14-4c71-aacc-c012279f7d9b",
   "metadata": {},
   "outputs": [],
   "source": [
    "for exp_name, paths in tqdm(exps.items()):\n",
    "    oof_mod = read_oof(exp_name=exp_name)"
   ]
  },
  {
   "cell_type": "code",
   "execution_count": 12,
   "id": "eb977adf-7f84-4c5e-b14b-7f00b9cb2b1e",
   "metadata": {},
   "outputs": [
    {
     "data": {
      "application/vnd.jupyter.widget-view+json": {
       "model_id": "40ebd8fe349342c7b3fbe55a5922de31",
       "version_major": 2,
       "version_minor": 0
      },
      "text/plain": [
       "  0%|          | 0/6 [00:00<?, ?it/s]"
      ]
     },
     "metadata": {},
     "output_type": "display_data"
    }
   ],
   "source": [
    "oofs = {}\n",
    "for exp_name in tqdm(exps.keys()):\n",
    "    oofs[exp_name] = read_oof(exp_name=exp_name)"
   ]
  },
  {
   "cell_type": "markdown",
   "id": "d30c69ab-517a-4037-95a0-5dbc12894e24",
   "metadata": {},
   "source": [
    "## stacking exp"
   ]
  },
  {
   "cell_type": "code",
   "execution_count": 109,
   "id": "fc80df0b-f414-4a5d-b630-2ef541cece32",
   "metadata": {},
   "outputs": [
    {
     "data": {
      "application/vnd.jupyter.widget-view+json": {
       "model_id": "a2ce04379eb44f7e8416a28061583e3a",
       "version_major": 2,
       "version_minor": 0
      },
      "text/plain": [
       "  0%|          | 0/6 [00:00<?, ?it/s]"
      ]
     },
     "metadata": {},
     "output_type": "display_data"
    }
   ],
   "source": [
    "topN = 30\n",
    "preds = []\n",
    "for exp_name in tqdm(exps.keys()):\n",
    "    oof = oofs[exp_name]\n",
    "    oof_topN = oof.groupby(\"customer_id\").head(topN).copy()\n",
    "    # add pred rank\n",
    "    oof_topN[\"pred_rank\"] = oof_topN.groupby(\"customer_id\")[\"pred\"].rank(ascending=False, method=\"dense\")\n",
    "    oof_topN.loc[:, \"model\"] = exp_name\n",
    "    preds.append(oof_topN)\n",
    "\n",
    "preds = pd.concat(preds)"
   ]
  },
  {
   "cell_type": "code",
   "execution_count": 110,
   "id": "4c1ac1ff-07ab-40f8-97c0-30ee0ed2e1ae",
   "metadata": {},
   "outputs": [],
   "source": [
    "preds_pv = preds.pivot_table(values=['pred'], index=['customer_id', 'article_id'], columns=['model'])\n",
    "preds_pv = preds_pv.reset_index()\n",
    "preds_pv_columns = ['_'.join(col).strip() for col in preds_pv.columns.values]\n",
    "preds_pv.columns = preds_pv_columns\n",
    "preds_pv = preds_pv.rename(columns={\"customer_id_\":\"customer_id\", \"article_id_\":\"article_id\"})\n",
    "\n",
    "preds_pv_rank = preds.pivot_table(values=['pred_rank'], index=['customer_id', 'article_id'], columns=['model'])\n",
    "preds_pv_rank = preds_pv_rank.reset_index()\n",
    "preds_pv_rank_columns = ['_'.join(col).strip() for col in preds_pv_rank.columns.values]\n",
    "preds_pv_rank.columns = preds_pv_rank_columns\n",
    "preds_pv_rank = preds_pv_rank.drop(columns=[\"customer_id_\",\"article_id_\"])\n",
    "\n",
    "preds_pv = pd.concat([\n",
    "    preds_pv, preds_pv_rank\n",
    "], axis=1)"
   ]
  },
  {
   "cell_type": "code",
   "execution_count": 113,
   "id": "093f40be-0130-46ef-ab0f-016c447b40e7",
   "metadata": {},
   "outputs": [],
   "source": [
    "# agg score\n",
    "\n",
    "pred_names = [f\"pred_{exp_name}\" for exp_name in exps.keys()]\n",
    "preds_pv[\"preds_sum\"] = preds_pv[pred_names].sum(axis=1)\n",
    "preds_pv[\"preds_min\"] = preds_pv[pred_names].min(axis=1)\n",
    "preds_pv[\"preds_max\"] = preds_pv[pred_names].max(axis=1)\n",
    "preds_pv[\"preds_cnt\"] = preds_pv[pred_names].count(axis=1)\n",
    "\n",
    "pred_names = [f\"pred_rank_{exp_name}\" for exp_name in exps.keys()]\n",
    "preds_pv[\"preds_sum_rank\"] = preds_pv[pred_names].sum(axis=1)\n",
    "preds_pv[\"preds_min_rank\"] = preds_pv[pred_names].min(axis=1)\n",
    "preds_pv[\"preds_max_rank\"] = preds_pv[pred_names].max(axis=1)"
   ]
  },
  {
   "cell_type": "code",
   "execution_count": 114,
   "id": "d954486c-d67e-43e0-a992-024e6aef926d",
   "metadata": {},
   "outputs": [],
   "source": [
    "# add art attrs\n",
    "\n",
    "preds_pv = fast_left_join(\n",
    "    preds_pv,\n",
    "    df_art[\n",
    "        [\n",
    "            \"product_code\",\n",
    "            \"product_type_no\",\n",
    "            \"product_group_name\",  #\n",
    "            \"graphical_appearance_no\",\n",
    "            \"colour_group_code\",\n",
    "            \"perceived_colour_value_id\",  #\n",
    "            \"perceived_colour_master_id\",  #\n",
    "            \"department_no\",\n",
    "            \"index_code\",\n",
    "            \"index_group_no\",\n",
    "            \"section_no\",\n",
    "            \"garment_group_no\",\n",
    "        ]\n",
    "    ],\n",
    "    on=\"article_id\",\n",
    ")\n",
    "\n",
    "preds_pv = fast_left_join(\n",
    "    preds_pv,\n",
    "    df_cust[\n",
    "        [\n",
    "            \"age\",\n",
    "            \"age_id\",\n",
    "            \"FN\",\n",
    "            \"Active\",\n",
    "            \"club_member_status\",\n",
    "            \"fashion_news_frequency\",\n",
    "            \"postal_code\",\n",
    "            \"postal_code_ce\",\n",
    "        ]\n",
    "    ],\n",
    "    on=\"customer_id\",\n",
    ")"
   ]
  },
  {
   "cell_type": "code",
   "execution_count": 115,
   "id": "241fcb56-8e6d-4dcf-8c53-bcd63494eb10",
   "metadata": {},
   "outputs": [
    {
     "name": "stdout",
     "output_type": "stream",
     "text": [
      "CPU times: user 11.8 s, sys: 2.15 s, total: 14 s\n",
      "Wall time: 13.9 s\n"
     ]
    }
   ],
   "source": [
    "%%time\n",
    "\n",
    "# add hist features\n",
    "\n",
    "len_hist = 366\n",
    "dev = \"cpu\"\n",
    "def stacking_feat_store(df_trans, l_cust, ds, de, dsr, der, dsh, deh):\n",
    "    feat = {}\n",
    "    \n",
    "    df_trans_yesterday = df_trans.query(\"(t_dat == @der)\")  # 1day\n",
    "    df_trans_recent = df_trans.query(\"(t_dat >= @dsr) and (t_dat <= @der)\")  # 1week\n",
    "    df_trans_hist = df_trans.query(\"(t_dat >= @dsh) and (t_dat <= @deh)\")  # 1year\n",
    "    \n",
    "    # make decay count\n",
    "    df_trans_hist[\"t_delay\"] = (\n",
    "        df_trans_hist[\"t_dat\"].max() - df_trans_hist[\"t_dat\"]\n",
    "    ).dt.days\n",
    "    df_trans_hist[\"decay_count\"] = 1 / (1 + df_trans_hist[\"t_delay\"] // 7)\n",
    "    \n",
    "    # agg art\n",
    "    feat[\"art_buy_hist\"] = df_trans_hist.groupby([\"article_id\"])[\"t_dat\"].agg(\n",
    "        art_buy_hist=\"count\"\n",
    "    )\n",
    "    feat[\"art_buy_recent\"] = df_trans_recent.groupby([\"article_id\"])[\"t_dat\"].agg(\n",
    "        art_buy_recent=\"count\"\n",
    "    )\n",
    "    feat[\"art_buy_yesterday\"] = df_trans_yesterday.groupby([\"article_id\"])[\n",
    "        \"t_dat\"\n",
    "    ].agg(art_buy_yesterday=\"count\")\n",
    "    feat[\"art_buy_hist_decay\"] = df_trans_hist.groupby([\"article_id\"])[\"decay_count\"].agg(\n",
    "        art_buy_hist_decay=\"sum\"\n",
    "    )\n",
    "\n",
    "    for k in feat.keys():\n",
    "        feat[k] = reduce_mem_usage(feat[k])\n",
    "    if dev == \"gpu\":\n",
    "        feat[k] = cudf.from_pandas(feat[k])\n",
    "    return feat\n",
    "\n",
    "def stacking_add_feat(df, feat):\n",
    "    df = reduce_mem_usage(df)\n",
    "    if dev == \"gpu\":\n",
    "        df = cudf.from_pandas(df)\n",
    "\n",
    "    # merge aid\n",
    "    for col in [\n",
    "        \"art_buy_hist\",\n",
    "        \"art_buy_recent\",\n",
    "        \"art_buy_yesterday\",\n",
    "        \"art_buy_hist_decay\",\n",
    "    ]:\n",
    "        if dev == \"gpu\":\n",
    "            df = df.merge(\n",
    "                feat[col], how=\"left\", left_on=[\"article_id\"], right_index=True\n",
    "            )\n",
    "        else:\n",
    "            df = fast_left_join(df, feat[col], on=\"article_id\")\n",
    "    \n",
    "    fill_zero_columns = [\n",
    "        \"art_buy_hist\",\n",
    "        \"art_buy_recent\",\n",
    "        \"art_buy_yesterday\",\n",
    "        \"art_buy_hist_decay\",\n",
    "    ]\n",
    "    for col in fill_zero_columns:\n",
    "        # print(col)\n",
    "        df[col] = df[col].fillna(0)\n",
    "\n",
    "    if dev == \"gpu\":\n",
    "        df = df.to_pandas()\n",
    "    return df\n",
    "\n",
    "feat = stacking_feat_store(\n",
    "    df_trans,\n",
    "    l_cust=preds_pv[\"customer_id\"].unique(),\n",
    "    ds=datetime.datetime(2020, 9, 16),\n",
    "    de=datetime.datetime(2020, 9, 22),\n",
    "    dsr=datetime.datetime(2020, 9, 9),\n",
    "    der=datetime.datetime(2020, 9, 15),\n",
    "    dsh=datetime.datetime(2019, 9, 15),\n",
    "    deh=datetime.datetime(2020, 9, 15),\n",
    ")\n",
    "\n",
    "preds_pv = stacking_add_feat(preds_pv, feat)"
   ]
  },
  {
   "cell_type": "code",
   "execution_count": 116,
   "id": "a9bb4107-62ab-434d-bd09-d7c9b50a2ad7",
   "metadata": {},
   "outputs": [],
   "source": [
    "# add target\n",
    "\n",
    "preds_pv = preds_pv.merge(df_trans_week1, how=\"left\", on=['customer_id', 'article_id'])\n",
    "preds_pv[\"target\"] = preds_pv[\"target\"].fillna(0).astype(int)"
   ]
  },
  {
   "cell_type": "code",
   "execution_count": 117,
   "id": "ccda00b4-9810-4659-9773-26e76a79fd7e",
   "metadata": {},
   "outputs": [
    {
     "data": {
      "text/plain": [
       "32913"
      ]
     },
     "execution_count": 117,
     "metadata": {},
     "output_type": "execute_result"
    }
   ],
   "source": [
    "preds_pv[\"target\"].sum()"
   ]
  },
  {
   "cell_type": "code",
   "execution_count": 118,
   "id": "d5f09ec8-9a53-477e-b19d-63d921d082d7",
   "metadata": {},
   "outputs": [
    {
     "data": {
      "text/plain": [
       "(0.15181833277980739, 0.32984460164675866)"
      ]
     },
     "execution_count": 118,
     "metadata": {},
     "output_type": "execute_result"
    }
   ],
   "source": [
    "cover_rate = preds_pv[\"target\"].sum() / len(df_trans_week1)\n",
    "user_cover_rate = (preds_pv.groupby(\"customer_id\")[\"target\"].sum() > 0).sum() / preds_pv[\"customer_id\"].nunique()\n",
    "cover_rate, user_cover_rate"
   ]
  },
  {
   "cell_type": "code",
   "execution_count": 119,
   "id": "d6f64272-7837-40df-b248-6ea6a021b592",
   "metadata": {},
   "outputs": [],
   "source": [
    "# !pip install -U scikit-learn"
   ]
  },
  {
   "cell_type": "code",
   "execution_count": 120,
   "id": "820a40ab-5d00-477c-82f8-08c510a51151",
   "metadata": {},
   "outputs": [
    {
     "data": {
      "text/plain": [
       "'1.0.2'"
      ]
     },
     "execution_count": 120,
     "metadata": {},
     "output_type": "execute_result"
    }
   ],
   "source": [
    "import sklearn\n",
    "sklearn.__version__"
   ]
  },
  {
   "cell_type": "code",
   "execution_count": 121,
   "id": "c379c789-83e5-482b-aed9-a7151b3d5952",
   "metadata": {
    "tags": []
   },
   "outputs": [
    {
     "name": "stderr",
     "output_type": "stream",
     "text": [
      "Warning: Overfitting detector is active, thus evaluation metric is calculated on every iteration. 'metric_period' is ignored for evaluation metric.\n"
     ]
    },
    {
     "name": "stdout",
     "output_type": "stream",
     "text": [
      "0:\tlearn: 0.0360347\ttest: 0.0362073\tbest: 0.0362073 (0)\ttotal: 705ms\tremaining: 1h 57m 25s\n",
      "20:\tlearn: 0.0602230\ttest: 0.0614167\tbest: 0.0614167 (20)\ttotal: 18.7s\tremaining: 2h 27m 45s\n",
      "40:\tlearn: 0.0612330\ttest: 0.0619053\tbest: 0.0620805 (33)\ttotal: 36.4s\tremaining: 2h 27m 29s\n",
      "60:\tlearn: 0.0620687\ttest: 0.0618802\tbest: 0.0620805 (33)\ttotal: 49.8s\tremaining: 2h 15m 7s\n",
      "Stopped by overfitting detector  (30 iterations wait)\n",
      "\n",
      "bestTest = 0.06208048931\n",
      "bestIteration = 33\n",
      "\n",
      "Shrink model to first 34 iterations.\n"
     ]
    },
    {
     "name": "stderr",
     "output_type": "stream",
     "text": [
      "Warning: Overfitting detector is active, thus evaluation metric is calculated on every iteration. 'metric_period' is ignored for evaluation metric.\n"
     ]
    },
    {
     "name": "stdout",
     "output_type": "stream",
     "text": [
      "0:\tlearn: 0.0327782\ttest: 0.0308503\tbest: 0.0308503 (0)\ttotal: 711ms\tremaining: 1h 58m 29s\n",
      "20:\tlearn: 0.0612153\ttest: 0.0579886\tbest: 0.0581957 (19)\ttotal: 14.4s\tremaining: 1h 54m 15s\n",
      "40:\tlearn: 0.0620652\ttest: 0.0588823\tbest: 0.0588823 (40)\ttotal: 32.3s\tremaining: 2h 10m 44s\n",
      "60:\tlearn: 0.0626560\ttest: 0.0592397\tbest: 0.0592397 (60)\ttotal: 50s\tremaining: 2h 15m 50s\n",
      "80:\tlearn: 0.0632525\ttest: 0.0592756\tbest: 0.0595596 (64)\ttotal: 1m 3s\tremaining: 2h 10m 8s\n",
      "Stopped by overfitting detector  (30 iterations wait)\n",
      "\n",
      "bestTest = 0.05955956944\n",
      "bestIteration = 64\n",
      "\n",
      "Shrink model to first 65 iterations.\n"
     ]
    },
    {
     "name": "stderr",
     "output_type": "stream",
     "text": [
      "Warning: Overfitting detector is active, thus evaluation metric is calculated on every iteration. 'metric_period' is ignored for evaluation metric.\n"
     ]
    },
    {
     "name": "stdout",
     "output_type": "stream",
     "text": [
      "0:\tlearn: 0.0336278\ttest: 0.0322803\tbest: 0.0322803 (0)\ttotal: 696ms\tremaining: 1h 56m 4s\n",
      "20:\tlearn: 0.0613418\ttest: 0.0582335\tbest: 0.0583007 (19)\ttotal: 14.5s\tremaining: 1h 55m 7s\n",
      "40:\tlearn: 0.0622274\ttest: 0.0589344\tbest: 0.0589344 (40)\ttotal: 28.2s\tremaining: 1h 54m 6s\n",
      "60:\tlearn: 0.0630197\ttest: 0.0591795\tbest: 0.0592944 (50)\ttotal: 41.9s\tremaining: 1h 53m 50s\n",
      "80:\tlearn: 0.0634829\ttest: 0.0593381\tbest: 0.0593466 (78)\ttotal: 55.7s\tremaining: 1h 53m 37s\n",
      "100:\tlearn: 0.0639496\ttest: 0.0593317\tbest: 0.0595378 (91)\ttotal: 1m 9s\tremaining: 1h 53m 44s\n",
      "120:\tlearn: 0.0644559\ttest: 0.0596213\tbest: 0.0596647 (116)\ttotal: 1m 23s\tremaining: 1h 53m 34s\n",
      "140:\tlearn: 0.0650478\ttest: 0.0594503\tbest: 0.0597410 (130)\ttotal: 1m 37s\tremaining: 1h 53m 10s\n",
      "160:\tlearn: 0.0654372\ttest: 0.0594877\tbest: 0.0597410 (130)\ttotal: 1m 50s\tremaining: 1h 52m 48s\n",
      "Stopped by overfitting detector  (30 iterations wait)\n",
      "\n",
      "bestTest = 0.05974104393\n",
      "bestIteration = 130\n",
      "\n",
      "Shrink model to first 131 iterations.\n"
     ]
    },
    {
     "name": "stderr",
     "output_type": "stream",
     "text": [
      "Warning: Overfitting detector is active, thus evaluation metric is calculated on every iteration. 'metric_period' is ignored for evaluation metric.\n"
     ]
    },
    {
     "name": "stdout",
     "output_type": "stream",
     "text": [
      "0:\tlearn: 0.0327128\ttest: 0.0337367\tbest: 0.0337367 (0)\ttotal: 695ms\tremaining: 1h 55m 47s\n",
      "20:\tlearn: 0.0603212\ttest: 0.0607300\tbest: 0.0607300 (20)\ttotal: 14.3s\tremaining: 1h 53m 20s\n",
      "40:\tlearn: 0.0612845\ttest: 0.0614060\tbest: 0.0615468 (36)\ttotal: 27.6s\tremaining: 1h 51m 51s\n",
      "60:\tlearn: 0.0619427\ttest: 0.0619552\tbest: 0.0619552 (60)\ttotal: 40.9s\tremaining: 1h 51m 10s\n",
      "80:\tlearn: 0.0624050\ttest: 0.0619802\tbest: 0.0620272 (69)\ttotal: 54.3s\tremaining: 1h 50m 46s\n",
      "100:\tlearn: 0.0628560\ttest: 0.0623763\tbest: 0.0623763 (100)\ttotal: 1m 7s\tremaining: 1h 50m 21s\n",
      "120:\tlearn: 0.0633466\ttest: 0.0625359\tbest: 0.0625359 (120)\ttotal: 1m 20s\tremaining: 1h 50m 6s\n",
      "140:\tlearn: 0.0636904\ttest: 0.0623731\tbest: 0.0625410 (129)\ttotal: 1m 34s\tremaining: 1h 49m 52s\n",
      "160:\tlearn: 0.0640345\ttest: 0.0627659\tbest: 0.0627659 (160)\ttotal: 1m 47s\tremaining: 1h 49m 37s\n",
      "180:\tlearn: 0.0645190\ttest: 0.0625758\tbest: 0.0627746 (161)\ttotal: 2m 1s\tremaining: 1h 49m 28s\n",
      "Stopped by overfitting detector  (30 iterations wait)\n",
      "\n",
      "bestTest = 0.06277463587\n",
      "bestIteration = 161\n",
      "\n",
      "Shrink model to first 162 iterations.\n"
     ]
    },
    {
     "name": "stderr",
     "output_type": "stream",
     "text": [
      "Warning: Overfitting detector is active, thus evaluation metric is calculated on every iteration. 'metric_period' is ignored for evaluation metric.\n"
     ]
    },
    {
     "name": "stdout",
     "output_type": "stream",
     "text": [
      "0:\tlearn: 0.0336326\ttest: 0.0349974\tbest: 0.0349974 (0)\ttotal: 704ms\tremaining: 1h 57m 14s\n",
      "20:\tlearn: 0.0600352\ttest: 0.0629624\tbest: 0.0630162 (17)\ttotal: 15.8s\tremaining: 2h 5m 18s\n",
      "40:\tlearn: 0.0611502\ttest: 0.0635567\tbest: 0.0636598 (38)\ttotal: 29.2s\tremaining: 1h 58m 6s\n",
      "60:\tlearn: 0.0615900\ttest: 0.0640662\tbest: 0.0641198 (59)\ttotal: 44.2s\tremaining: 2h 7s\n",
      "80:\tlearn: 0.0622034\ttest: 0.0640925\tbest: 0.0641963 (77)\ttotal: 58.8s\tremaining: 1h 59m 59s\n",
      "100:\tlearn: 0.0626800\ttest: 0.0642420\tbest: 0.0643998 (88)\ttotal: 1m 12s\tremaining: 1h 58m 35s\n",
      "120:\tlearn: 0.0630438\ttest: 0.0645268\tbest: 0.0645275 (116)\ttotal: 1m 27s\tremaining: 1h 59m 25s\n",
      "140:\tlearn: 0.0634451\ttest: 0.0646216\tbest: 0.0647180 (126)\ttotal: 1m 41s\tremaining: 1h 58m 2s\n",
      "Stopped by overfitting detector  (30 iterations wait)\n",
      "\n",
      "bestTest = 0.06471803513\n",
      "bestIteration = 126\n",
      "\n",
      "Shrink model to first 127 iterations.\n"
     ]
    }
   ],
   "source": [
    "from sklearn.model_selection import GroupKFold\n",
    "# from sklearn.model_selection import StratifiedGroupKFold\n",
    "\n",
    "FOLD_NUM = 5\n",
    "RANDOM_STATE = 46\n",
    "CAT_PARAMS = {\n",
    "    \"depth\": 5,\n",
    "    \"learning_rate\": 0.1,\n",
    "    \"boosting_type\": \"Plain\",\n",
    "    \"bootstrap_type\": \"Bernoulli\",\n",
    "    \"subsample\": 0.8,\n",
    "    \"reg_lambda\": 0.001,\n",
    "    \"iterations\": 10000,\n",
    "    \"od_type\": \"Iter\",\n",
    "    \"od_wait\": 30,\n",
    "    \"metric_period\": 20,\n",
    "    \"random_seed\": RANDOM_STATE,\n",
    "    \"task_type\": \"CPU\",\n",
    "    # \"task_type\": \"GPU\",\n",
    "    # \"gpu_ram_part\": 0.95,\n",
    "    # \"devices\": \"1\",\n",
    "    \"verbose\": True,\n",
    "    \"loss_function\": \"YetiRank\",\n",
    "    \"eval_metric\": \"MAP:top=12\",\n",
    "}\n",
    "\n",
    "models = []\n",
    "scores = []\n",
    "oof = np.zeros(len(preds_pv))\n",
    "y = preds_pv['target'].values\n",
    "groups = preds_pv['customer_id'].values\n",
    "kfold = GroupKFold(n_splits=FOLD_NUM)\n",
    "# kfold = StratifiedGroupKFold(n_splits=FOLD_NUM, shuffle=True, random_state=RANDOM_STATE)\n",
    "for fold, (trn, val) in enumerate(kfold.split(preds_pv, y, groups)):\n",
    "    \n",
    "    df_train = preds_pv.iloc[trn]\n",
    "    df_val = preds_pv.iloc[val]\n",
    "    \n",
    "    df_train = df_train.sort_values(\"customer_id\")\n",
    "    X_train = df_train.drop(\n",
    "        [\n",
    "            \"customer_id\",\n",
    "            \"article_id\",\n",
    "            \"target\",\n",
    "        ],\n",
    "        axis=1,\n",
    "    )\n",
    "    y_train = df_train[\"target\"]\n",
    "    idx = df_train.groupby(\"customer_id\")[\"customer_id\"].count().values\n",
    "    group_id_train = [\n",
    "        i for i, bascket_num in enumerate(idx) for _ in range(bascket_num)\n",
    "    ]\n",
    "\n",
    "    df_val = df_val.sort_values(\"customer_id\")\n",
    "    X_val = df_val.drop(\n",
    "        [\n",
    "            \"customer_id\",\n",
    "            \"article_id\",\n",
    "            \"target\",\n",
    "        ],\n",
    "        axis=1,\n",
    "    )\n",
    "    y_val = df_val[\"target\"]\n",
    "    idx = df_val.groupby(\"customer_id\")[\"customer_id\"].count().values\n",
    "    group_id_val = [\n",
    "        i for i, bascket_num in enumerate(idx) for _ in range(bascket_num)\n",
    "    ]\n",
    "\n",
    "    cat_features_index = []\n",
    "    train_pool = Pool(\n",
    "        data=X_train,\n",
    "        label=y_train,\n",
    "        group_id=group_id_train,\n",
    "        cat_features=cat_features_index,\n",
    "    )\n",
    "    val_pool = Pool(\n",
    "        data=X_val,\n",
    "        label=y_val,\n",
    "        group_id=group_id_val,\n",
    "        cat_features=cat_features_index,\n",
    "    )\n",
    "\n",
    "    model = CatBoostRanker(**CAT_PARAMS)\n",
    "    model.fit(train_pool, eval_set=val_pool)\n",
    "    gbdt_score = model.best_score_[\"validation\"][\"MAP:top=12\"]\n",
    "    \n",
    "    # not sorted sample\n",
    "    X_val = preds_pv.iloc[val].drop(\n",
    "        [\n",
    "            \"customer_id\",\n",
    "            \"article_id\",\n",
    "            \"target\",\n",
    "        ],\n",
    "        axis=1,\n",
    "    )\n",
    "    preds = model.predict(X_val)\n",
    "    oof[val] = preds\n",
    "    scores.append(gbdt_score)\n",
    "    models.append(model)"
   ]
  },
  {
   "cell_type": "code",
   "execution_count": 122,
   "id": "265f5700-8663-481c-85aa-3f099fdc1950",
   "metadata": {},
   "outputs": [
    {
     "name": "stdout",
     "output_type": "stream",
     "text": [
      "gbdt_cv: 0.06177\n",
      "CV: 0.038646\n"
     ]
    }
   ],
   "source": [
    "# topN = 30\n",
    "# group k=5, score + rank + agg, \n",
    "# 0.03843 -> (top18: 0.038666) -> (top24: 0.038783) -> (top30: 0.038646)\n",
    "\n",
    "\n",
    "preds_cv = preds_pv[[\"customer_id\", \"article_id\"]].copy()\n",
    "preds_cv[\"oof\"] = oof\n",
    "\n",
    "preds_cv = preds_cv.sort_values([\"customer_id\", \"oof\"], ascending=False)\n",
    "preds_cv = preds_cv.groupby(\"customer_id\").head(12)\n",
    "preds_cv = preds_cv.groupby(\"customer_id\")[\"article_id\"].apply(list).reset_index().rename(columns={\"article_id\":\"oof\"})\n",
    "preds_cv = preds_cv.merge(df_agg_val_1, on=\"customer_id\", how=\"left\").rename(columns={\"article_id\":\"gts\"})\n",
    "\n",
    "gbdt_cv = np.mean(scores)\n",
    "cv = mapk(preds_cv[\"gts\"], preds_cv[\"oof\"])\n",
    "\n",
    "print(f\"gbdt_cv: {gbdt_cv:.5f}\")\n",
    "print(f\"CV: {cv:.6f}\")"
   ]
  },
  {
   "cell_type": "code",
   "execution_count": 108,
   "id": "cbd13a1a-ea96-4cb4-830d-27d612d79741",
   "metadata": {},
   "outputs": [
    {
     "name": "stdout",
     "output_type": "stream",
     "text": [
      "gbdt_cv: 0.06305\n",
      "CV: 0.038783\n"
     ]
    }
   ],
   "source": [
    "# topN = 24\n",
    "# group k=5, score + rank + agg, \n",
    "# 0.03843 -> (top18: 0.038666) -> 0.038783\n",
    "\n",
    "\n",
    "preds_cv = preds_pv[[\"customer_id\", \"article_id\"]].copy()\n",
    "preds_cv[\"oof\"] = oof\n",
    "\n",
    "preds_cv = preds_cv.sort_values([\"customer_id\", \"oof\"], ascending=False)\n",
    "preds_cv = preds_cv.groupby(\"customer_id\").head(12)\n",
    "preds_cv = preds_cv.groupby(\"customer_id\")[\"article_id\"].apply(list).reset_index().rename(columns={\"article_id\":\"oof\"})\n",
    "preds_cv = preds_cv.merge(df_agg_val_1, on=\"customer_id\", how=\"left\").rename(columns={\"article_id\":\"gts\"})\n",
    "\n",
    "gbdt_cv = np.mean(scores)\n",
    "cv = mapk(preds_cv[\"gts\"], preds_cv[\"oof\"])\n",
    "\n",
    "print(f\"gbdt_cv: {gbdt_cv:.5f}\")\n",
    "print(f\"CV: {cv:.6f}\")"
   ]
  },
  {
   "cell_type": "code",
   "execution_count": 94,
   "id": "09d4d22b-d8f3-4e57-be10-74c00720b2a2",
   "metadata": {},
   "outputs": [
    {
     "name": "stdout",
     "output_type": "stream",
     "text": [
      "gbdt_cv: 0.06434\n",
      "CV: 0.038666\n"
     ]
    }
   ],
   "source": [
    "# topN = 18\n",
    "# group k=5, score + rank + agg, \n",
    "# 0.03843 -> 0.038666\n",
    "\n",
    "\n",
    "preds_cv = preds_pv[[\"customer_id\", \"article_id\"]].copy()\n",
    "preds_cv[\"oof\"] = oof\n",
    "\n",
    "preds_cv = preds_cv.sort_values([\"customer_id\", \"oof\"], ascending=False)\n",
    "preds_cv = preds_cv.groupby(\"customer_id\").head(12)\n",
    "preds_cv = preds_cv.groupby(\"customer_id\")[\"article_id\"].apply(list).reset_index().rename(columns={\"article_id\":\"oof\"})\n",
    "preds_cv = preds_cv.merge(df_agg_val_1, on=\"customer_id\", how=\"left\").rename(columns={\"article_id\":\"gts\"})\n",
    "\n",
    "gbdt_cv = np.mean(scores)\n",
    "cv = mapk(preds_cv[\"gts\"], preds_cv[\"oof\"])\n",
    "\n",
    "print(f\"gbdt_cv: {gbdt_cv:.5f}\")\n",
    "print(f\"CV: {cv:.6f}\")"
   ]
  },
  {
   "cell_type": "code",
   "execution_count": 25,
   "id": "f8f848f9-2e28-4d49-97d1-3b1c18bc8205",
   "metadata": {},
   "outputs": [
    {
     "name": "stdout",
     "output_type": "stream",
     "text": [
      "gbdt_cv: 0.06464\n",
      "CV: 0.038396\n"
     ]
    }
   ],
   "source": [
    "# stratified group k=10 0.03843 -> 0.038396\n",
    "\n",
    "\n",
    "preds_cv = preds_pv[[\"customer_id\", \"article_id\"]].copy()\n",
    "preds_cv[\"oof\"] = oof\n",
    "\n",
    "preds_cv = preds_cv.sort_values([\"customer_id\", \"oof\"], ascending=False)\n",
    "preds_cv = preds_cv.groupby(\"customer_id\").head(12)\n",
    "preds_cv = preds_cv.groupby(\"customer_id\")[\"article_id\"].apply(list).reset_index().rename(columns={\"article_id\":\"oof\"})\n",
    "preds_cv = preds_cv.merge(df_agg_val_1, on=\"customer_id\", how=\"left\").rename(columns={\"article_id\":\"gts\"})\n",
    "\n",
    "gbdt_cv = np.mean(scores)\n",
    "cv = mapk(preds_cv[\"gts\"], preds_cv[\"oof\"])\n",
    "\n",
    "print(f\"gbdt_cv: {gbdt_cv:.5f}\")\n",
    "print(f\"CV: {cv:.6f}\")"
   ]
  },
  {
   "cell_type": "code",
   "execution_count": 23,
   "id": "9c098aa1-03bc-42b1-a362-bbed85464513",
   "metadata": {},
   "outputs": [
    {
     "name": "stdout",
     "output_type": "stream",
     "text": [
      "gbdt_cv: 0.06426\n",
      "CV: 0.038175\n"
     ]
    }
   ],
   "source": [
    "# stratified group k=5 0.03843 -> 0.038175(?)\n",
    "\n",
    "\n",
    "preds_cv = preds_pv[[\"customer_id\", \"article_id\"]].copy()\n",
    "preds_cv[\"oof\"] = oof\n",
    "\n",
    "preds_cv = preds_cv.sort_values([\"customer_id\", \"oof\"], ascending=False)\n",
    "preds_cv = preds_cv.groupby(\"customer_id\").head(12)\n",
    "preds_cv = preds_cv.groupby(\"customer_id\")[\"article_id\"].apply(list).reset_index().rename(columns={\"article_id\":\"oof\"})\n",
    "preds_cv = preds_cv.merge(df_agg_val_1, on=\"customer_id\", how=\"left\").rename(columns={\"article_id\":\"gts\"})\n",
    "\n",
    "gbdt_cv = np.mean(scores)\n",
    "cv = mapk(preds_cv[\"gts\"], preds_cv[\"oof\"])\n",
    "\n",
    "print(f\"gbdt_cv: {gbdt_cv:.5f}\")\n",
    "print(f\"CV: {cv:.6f}\")"
   ]
  },
  {
   "cell_type": "code",
   "execution_count": 103,
   "id": "ab19a37e-3ab1-4806-bb1b-aa4d21459c6c",
   "metadata": {},
   "outputs": [
    {
     "name": "stdout",
     "output_type": "stream",
     "text": [
      "gbdt_cv: 0.06477\n",
      "CV: 0.03843\n"
     ]
    }
   ],
   "source": [
    "# transform pred_rank  0.03832 -> 0.03843\n",
    "\n",
    "\n",
    "preds_cv = preds_pv[[\"customer_id\", \"article_id\"]].copy()\n",
    "preds_cv[\"oof\"] = oof\n",
    "\n",
    "preds_cv = preds_cv.sort_values([\"customer_id\", \"oof\"], ascending=False)\n",
    "preds_cv = preds_cv.groupby(\"customer_id\").head(12)\n",
    "preds_cv = preds_cv.groupby(\"customer_id\")[\"article_id\"].apply(list).reset_index().rename(columns={\"article_id\":\"oof\"})\n",
    "preds_cv = preds_cv.merge(df_agg_val_1, on=\"customer_id\", how=\"left\").rename(columns={\"article_id\":\"gts\"})\n",
    "\n",
    "gbdt_cv = np.mean(scores)\n",
    "cv = mapk(preds_cv[\"gts\"], preds_cv[\"oof\"])\n",
    "\n",
    "print(f\"gbdt_cv: {gbdt_cv:.5f}\")\n",
    "print(f\"CV: {cv:.6f}\")"
   ]
  },
  {
   "cell_type": "code",
   "execution_count": 79,
   "id": "e81d5f15-0dfc-40a4-968c-b86976311a51",
   "metadata": {},
   "outputs": [
    {
     "name": "stdout",
     "output_type": "stream",
     "text": [
      "gbdt_cv: 0.06453897552478616\n",
      "CV: 0.038322614957826344\n"
     ]
    }
   ],
   "source": [
    "# base\n",
    "\n",
    "\n",
    "preds_cv = preds_pv[[\"customer_id\", \"article_id\"]].copy()\n",
    "preds_cv[\"oof\"] = oof\n",
    "\n",
    "preds_cv = preds_cv.sort_values([\"customer_id\", \"oof\"], ascending=False)\n",
    "preds_cv = preds_cv.groupby(\"customer_id\").head(12)\n",
    "preds_cv = preds_cv.groupby(\"customer_id\")[\"article_id\"].apply(list).reset_index().rename(columns={\"article_id\":\"oof\"})\n",
    "preds_cv = preds_cv.merge(df_agg_val_1, on=\"customer_id\", how=\"left\").rename(columns={\"article_id\":\"gts\"})\n",
    "\n",
    "gbdt_cv = np.mean(scores)\n",
    "cv = mapk(preds_cv[\"gts\"], preds_cv[\"oof\"])\n",
    "\n",
    "print(f\"gbdt_cv: {gbdt_cv:.4f}\")\n",
    "print(f\"CV: {cv:.4f}\")"
   ]
  },
  {
   "cell_type": "code",
   "execution_count": null,
   "id": "8d9668bd-df73-4af6-9c38-76f9db0fce19",
   "metadata": {},
   "outputs": [],
   "source": []
  },
  {
   "cell_type": "code",
   "execution_count": null,
   "id": "5f8a941f-80a3-4266-8ddf-a935e88cf706",
   "metadata": {},
   "outputs": [],
   "source": []
  },
  {
   "cell_type": "markdown",
   "id": "35f4d861-5a62-4d95-b3af-5d89278ac23d",
   "metadata": {},
   "source": [
    "## Inference"
   ]
  },
  {
   "cell_type": "code",
   "execution_count": 135,
   "id": "6066fe16-ad0c-4651-91a3-c468647a856d",
   "metadata": {},
   "outputs": [
    {
     "data": {
      "application/vnd.jupyter.widget-view+json": {
       "model_id": "d9f41d641dcf4ac192286e733c55871c",
       "version_major": 2,
       "version_minor": 0
      },
      "text/plain": [
       "  0%|          | 0/6 [00:00<?, ?it/s]"
      ]
     },
     "metadata": {},
     "output_type": "display_data"
    }
   ],
   "source": [
    "# read sub pred topN\n",
    "\n",
    "topN = 30\n",
    "sub_preds = []\n",
    "for exp_name in tqdm(exps.keys()):\n",
    "    sub = pd.read_pickle(exps[exp_name][\"sub_pred_top30\"])\n",
    "    sub_topN = sub.groupby(\"customer_id\").head(topN).copy()\n",
    "    # add pred rank\n",
    "    sub_topN[\"pred_rank\"] = sub_topN.groupby(\"customer_id\")[\"pred\"].rank(ascending=False, method=\"dense\")\n",
    "    sub_topN.loc[:, \"model\"] = exp_name\n",
    "    sub_preds.append(sub_topN)\n",
    "\n",
    "sub_preds = pd.concat(sub_preds)"
   ]
  },
  {
   "cell_type": "code",
   "execution_count": 136,
   "id": "8a62811b-b021-4d61-85ab-5473af236735",
   "metadata": {},
   "outputs": [],
   "source": [
    "feat = stacking_feat_store(\n",
    "    df_trans,\n",
    "    l_cust=preds_pv[\"customer_id\"].unique(),\n",
    "    ds=datetime.datetime(2020, 9, 23),\n",
    "    de=datetime.datetime(2020, 9, 29),\n",
    "    dsr=datetime.datetime(2020, 9, 16),\n",
    "    der=datetime.datetime(2020, 9, 22),\n",
    "    dsh=datetime.datetime(2019, 9, 22),\n",
    "    deh=datetime.datetime(2020, 9, 22),\n",
    ")"
   ]
  },
  {
   "cell_type": "code",
   "execution_count": 137,
   "id": "daf71faa-bf0a-4044-bb52-73791ecf03af",
   "metadata": {},
   "outputs": [],
   "source": [
    "customer_ids = sub_preds[\"customer_id\"].unique()"
   ]
  },
  {
   "cell_type": "code",
   "execution_count": 138,
   "id": "402fc25e-475c-4ac0-bab0-a40c53864216",
   "metadata": {
    "tags": []
   },
   "outputs": [],
   "source": [
    "size_block = 30000\n",
    "list_slice = list(range(0, len(customer_ids), size_block))\n",
    "if list_slice[-1] != len(customer_ids):\n",
    "    list_slice.append(len(customer_ids))"
   ]
  },
  {
   "cell_type": "code",
   "execution_count": 139,
   "id": "43c71b0f-7551-4beb-8043-dc7d393fbe06",
   "metadata": {
    "tags": []
   },
   "outputs": [
    {
     "data": {
      "application/vnd.jupyter.widget-view+json": {
       "model_id": "94a73091c35a4c1fb1a3fd4f66e31f24",
       "version_major": 2,
       "version_minor": 0
      },
      "text/plain": [
       "  0%|          | 0/46 [00:00<?, ?it/s]"
      ]
     },
     "metadata": {},
     "output_type": "display_data"
    }
   ],
   "source": [
    "sub_all = []\n",
    "for batch_idx in tqdm(range(len(list_slice) - 1)):\n",
    "    customer_ids_batch = customer_ids[list_slice[batch_idx] : list_slice[batch_idx + 1]]\n",
    "    \n",
    "    preds = sub_preds[sub_preds.customer_id.isin(customer_ids_batch)]\n",
    "    \n",
    "    # to pv    \n",
    "    preds_pv = preds.pivot_table(values=['pred'], index=['customer_id', 'article_id'], columns=['model'])\n",
    "    preds_pv = preds_pv.reset_index()\n",
    "    preds_pv_columns = ['_'.join(col).strip() for col in preds_pv.columns.values]\n",
    "    preds_pv.columns = preds_pv_columns\n",
    "    preds_pv = preds_pv.rename(columns={\"customer_id_\":\"customer_id\", \"article_id_\":\"article_id\"})\n",
    "\n",
    "    preds_pv_rank = preds.pivot_table(values=['pred_rank'], index=['customer_id', 'article_id'], columns=['model'])\n",
    "    preds_pv_rank = preds_pv_rank.reset_index()\n",
    "    preds_pv_rank_columns = ['_'.join(col).strip() for col in preds_pv_rank.columns.values]\n",
    "    preds_pv_rank.columns = preds_pv_rank_columns\n",
    "    preds_pv_rank = preds_pv_rank.drop(columns=[\"customer_id_\",\"article_id_\"])\n",
    "\n",
    "    preds_pv = pd.concat([\n",
    "        preds_pv, preds_pv_rank\n",
    "    ], axis=1)\n",
    "\n",
    "    # agg score\n",
    "\n",
    "    pred_names = [f\"pred_{exp_name}\" for exp_name in exps.keys()]\n",
    "    preds_pv[\"preds_sum\"] = preds_pv[pred_names].sum(axis=1)\n",
    "    preds_pv[\"preds_min\"] = preds_pv[pred_names].min(axis=1)\n",
    "    preds_pv[\"preds_max\"] = preds_pv[pred_names].max(axis=1)\n",
    "    preds_pv[\"preds_cnt\"] = preds_pv[pred_names].count(axis=1)\n",
    "\n",
    "    pred_names = [f\"pred_rank_{exp_name}\" for exp_name in exps.keys()]\n",
    "    preds_pv[\"preds_sum_rank\"] = preds_pv[pred_names].sum(axis=1)\n",
    "    preds_pv[\"preds_min_rank\"] = preds_pv[pred_names].min(axis=1)\n",
    "    preds_pv[\"preds_max_rank\"] = preds_pv[pred_names].max(axis=1)\n",
    "    \n",
    "    # add art attrs\n",
    "    preds_pv = fast_left_join(\n",
    "        preds_pv,\n",
    "        df_art[\n",
    "            [\n",
    "                \"product_code\",\n",
    "                \"product_type_no\",\n",
    "                \"product_group_name\",  #\n",
    "                \"graphical_appearance_no\",\n",
    "                \"colour_group_code\",\n",
    "                \"perceived_colour_value_id\",  #\n",
    "                \"perceived_colour_master_id\",  #\n",
    "                \"department_no\",\n",
    "                \"index_code\",\n",
    "                \"index_group_no\",\n",
    "                \"section_no\",\n",
    "                \"garment_group_no\",\n",
    "            ]\n",
    "        ],\n",
    "        on=\"article_id\",\n",
    "    )\n",
    "\n",
    "    preds_pv = fast_left_join(\n",
    "        preds_pv,\n",
    "        df_cust[\n",
    "            [\n",
    "                \"age\",\n",
    "                \"age_id\",\n",
    "                \"FN\",\n",
    "                \"Active\",\n",
    "                \"club_member_status\",\n",
    "                \"fashion_news_frequency\",\n",
    "                \"postal_code\",\n",
    "                \"postal_code_ce\",\n",
    "            ]\n",
    "        ],\n",
    "        on=\"customer_id\",\n",
    "    )\n",
    "    # add feat\n",
    "    preds_pv = stacking_add_feat(preds_pv, feat)\n",
    "    \n",
    "    # predict (5fold)\n",
    "    preds_tmp = np.zeros(len(preds_pv))\n",
    "    for i in range(len(models)):\n",
    "        preds_tmp += models[i].predict(preds_pv.drop(\n",
    "            [\n",
    "                \"customer_id\",\n",
    "                \"article_id\",\n",
    "            ],\n",
    "            axis=1,\n",
    "        ))\n",
    "    preds_tmp /= len(models)\n",
    "    \n",
    "    sub_batch = preds_pv[[\"customer_id\", \"article_id\"]].copy()\n",
    "    sub_batch[\"pred\"] = preds_tmp\n",
    "\n",
    "    sub_batch = sub_batch.sort_values([\"customer_id\", \"pred\"], ascending=False)\n",
    "    sub_batch = sub_batch.groupby(\"customer_id\").head(12)\n",
    "    sub_batch = sub_batch.groupby(\"customer_id\")[\"article_id\"].apply(list).reset_index().rename(columns={\"article_id\":\"prediction\"})\n",
    "    sub_batch[\"prediction\"] = sub_batch[\"prediction\"].apply(lambda x:' '.join(x))\n",
    "    \n",
    "    sub_all.append(sub_batch)"
   ]
  },
  {
   "cell_type": "code",
   "execution_count": 140,
   "id": "8127786f-3a69-4ecb-a71e-71f934193877",
   "metadata": {},
   "outputs": [],
   "source": [
    "sub_all = pd.concat(sub_all)\n",
    "sub_all = sub_all.sort_values(\"customer_id\")\n",
    "sub_all = sub_all.reset_index(drop=True)"
   ]
  },
  {
   "cell_type": "code",
   "execution_count": 141,
   "id": "3538ad73-d5dd-423f-99e6-f0ce6ee34f95",
   "metadata": {},
   "outputs": [],
   "source": [
    "sub_all.to_csv(f\"../sub/stacking-v3_{cv:.5f}.csv\", index=False)"
   ]
  },
  {
   "cell_type": "code",
   "execution_count": 142,
   "id": "8dd91e34-170d-454f-99af-17ea59f90c9d",
   "metadata": {},
   "outputs": [
    {
     "data": {
      "text/html": [
       "<div>\n",
       "<style scoped>\n",
       "    .dataframe tbody tr th:only-of-type {\n",
       "        vertical-align: middle;\n",
       "    }\n",
       "\n",
       "    .dataframe tbody tr th {\n",
       "        vertical-align: top;\n",
       "    }\n",
       "\n",
       "    .dataframe thead th {\n",
       "        text-align: right;\n",
       "    }\n",
       "</style>\n",
       "<table border=\"1\" class=\"dataframe\">\n",
       "  <thead>\n",
       "    <tr style=\"text-align: right;\">\n",
       "      <th></th>\n",
       "      <th>customer_id</th>\n",
       "      <th>prediction</th>\n",
       "    </tr>\n",
       "  </thead>\n",
       "  <tbody>\n",
       "    <tr>\n",
       "      <th>0</th>\n",
       "      <td>00000dbacae5abe5e23885899a1fa44253a17956c6d1c3d25f88aa139fdfc657</td>\n",
       "      <td>0568601006 0568601043 0568601044 0779781015 0568601007 0568601023 0568601030 0579541001 06736770...</td>\n",
       "    </tr>\n",
       "    <tr>\n",
       "      <th>1</th>\n",
       "      <td>0000423b00ade91418cceaf3b26c6af3dd342b51fd051eec9c12fb36984420fa</td>\n",
       "      <td>0918522001 0902528006 0788575004 0924243002 0909059002 0448509014 0918292001 0866731001 07147900...</td>\n",
       "    </tr>\n",
       "    <tr>\n",
       "      <th>2</th>\n",
       "      <td>000058a12d5b43e67d225668fa1f8d618c13dc232df0cad8ffe7ad4a1091e318</td>\n",
       "      <td>0794321007 0794321011 0794321008 0866731001 0924243002 0918292001 0924243001 0915529005 09292750...</td>\n",
       "    </tr>\n",
       "    <tr>\n",
       "      <th>3</th>\n",
       "      <td>00005ca1c9ed5f5146b52ac8639a40ca9d57aeff4d1bd2c5feb1ca5dff07c43e</td>\n",
       "      <td>0866731001 0928206001 0918292001 0730683050 0852584001 0740519002 0850917001 0751471001 07514710...</td>\n",
       "    </tr>\n",
       "    <tr>\n",
       "      <th>4</th>\n",
       "      <td>00006413d8573cd20ed7128e53b7b13819fe5cfc2d801fe7fc0f26dd8d65a85a</td>\n",
       "      <td>0730683050 0896152002 0791587001 0730683062 0791587015 0791587021 0866731001 0927530004 09242430...</td>\n",
       "    </tr>\n",
       "    <tr>\n",
       "      <th>...</th>\n",
       "      <td>...</td>\n",
       "      <td>...</td>\n",
       "    </tr>\n",
       "    <tr>\n",
       "      <th>1371975</th>\n",
       "      <td>ffffbbf78b6eaac697a8a5dfbfd2bfa8113ee5b403e4747568cac33e8c541831</td>\n",
       "      <td>0557599022 0791587001 0791587010 0791587015 0866731001 0804992014 0720125039 0822344001 09182920...</td>\n",
       "    </tr>\n",
       "    <tr>\n",
       "      <th>1371976</th>\n",
       "      <td>ffffcd5046a6143d29a04fb8c424ce494a76e5cdf4fab53481233731b5c4f8b7</td>\n",
       "      <td>0762846027 0762846031 0706016001 0762846026 0762846006 0762846029 0762846008 0706016003 07060160...</td>\n",
       "    </tr>\n",
       "    <tr>\n",
       "      <th>1371977</th>\n",
       "      <td>ffffcf35913a0bee60e8741cb2b4e78b8a98ee5ff2e6a1778d0116cffd259264</td>\n",
       "      <td>0762846027 0762846006 0762846026 0762846031 0762846029 0762846008 0706016002 0706016001 06736770...</td>\n",
       "    </tr>\n",
       "    <tr>\n",
       "      <th>1371978</th>\n",
       "      <td>ffffd7744cebcf3aca44ae7049d2a94b87074c3d4ffe38b2236865d949d4df6a</td>\n",
       "      <td>0714790020 0448509014 0714790028 0874110016 0821395005 0714790024 0914441004 0855706009 08934320...</td>\n",
       "    </tr>\n",
       "    <tr>\n",
       "      <th>1371979</th>\n",
       "      <td>ffffd9ac14e89946416d80e791d064701994755c3ab686a1eaf3458c36f52241</td>\n",
       "      <td>0806050001 0930380001 0924243002 0924243001 0751471043 0918522001 0896169002 0751471001 09106010...</td>\n",
       "    </tr>\n",
       "  </tbody>\n",
       "</table>\n",
       "<p>1371980 rows × 2 columns</p>\n",
       "</div>"
      ],
      "text/plain": [
       "                                                              customer_id  \\\n",
       "0        00000dbacae5abe5e23885899a1fa44253a17956c6d1c3d25f88aa139fdfc657   \n",
       "1        0000423b00ade91418cceaf3b26c6af3dd342b51fd051eec9c12fb36984420fa   \n",
       "2        000058a12d5b43e67d225668fa1f8d618c13dc232df0cad8ffe7ad4a1091e318   \n",
       "3        00005ca1c9ed5f5146b52ac8639a40ca9d57aeff4d1bd2c5feb1ca5dff07c43e   \n",
       "4        00006413d8573cd20ed7128e53b7b13819fe5cfc2d801fe7fc0f26dd8d65a85a   \n",
       "...                                                                   ...   \n",
       "1371975  ffffbbf78b6eaac697a8a5dfbfd2bfa8113ee5b403e4747568cac33e8c541831   \n",
       "1371976  ffffcd5046a6143d29a04fb8c424ce494a76e5cdf4fab53481233731b5c4f8b7   \n",
       "1371977  ffffcf35913a0bee60e8741cb2b4e78b8a98ee5ff2e6a1778d0116cffd259264   \n",
       "1371978  ffffd7744cebcf3aca44ae7049d2a94b87074c3d4ffe38b2236865d949d4df6a   \n",
       "1371979  ffffd9ac14e89946416d80e791d064701994755c3ab686a1eaf3458c36f52241   \n",
       "\n",
       "                                                                                                  prediction  \n",
       "0        0568601006 0568601043 0568601044 0779781015 0568601007 0568601023 0568601030 0579541001 06736770...  \n",
       "1        0918522001 0902528006 0788575004 0924243002 0909059002 0448509014 0918292001 0866731001 07147900...  \n",
       "2        0794321007 0794321011 0794321008 0866731001 0924243002 0918292001 0924243001 0915529005 09292750...  \n",
       "3        0866731001 0928206001 0918292001 0730683050 0852584001 0740519002 0850917001 0751471001 07514710...  \n",
       "4        0730683050 0896152002 0791587001 0730683062 0791587015 0791587021 0866731001 0927530004 09242430...  \n",
       "...                                                                                                      ...  \n",
       "1371975  0557599022 0791587001 0791587010 0791587015 0866731001 0804992014 0720125039 0822344001 09182920...  \n",
       "1371976  0762846027 0762846031 0706016001 0762846026 0762846006 0762846029 0762846008 0706016003 07060160...  \n",
       "1371977  0762846027 0762846006 0762846026 0762846031 0762846029 0762846008 0706016002 0706016001 06736770...  \n",
       "1371978  0714790020 0448509014 0714790028 0874110016 0821395005 0714790024 0914441004 0855706009 08934320...  \n",
       "1371979  0806050001 0930380001 0924243002 0924243001 0751471043 0918522001 0896169002 0751471001 09106010...  \n",
       "\n",
       "[1371980 rows x 2 columns]"
      ]
     },
     "execution_count": 142,
     "metadata": {},
     "output_type": "execute_result"
    }
   ],
   "source": [
    "sub_all"
   ]
  },
  {
   "cell_type": "code",
   "execution_count": null,
   "id": "fca3b1c9-c85d-4d06-9af0-b2e350da8047",
   "metadata": {},
   "outputs": [],
   "source": []
  }
 ],
 "metadata": {
  "kernelspec": {
   "display_name": "Python 3 (ipykernel)",
   "language": "python",
   "name": "python3"
  },
  "language_info": {
   "codemirror_mode": {
    "name": "ipython",
    "version": 3
   },
   "file_extension": ".py",
   "mimetype": "text/x-python",
   "name": "python",
   "nbconvert_exporter": "python",
   "pygments_lexer": "ipython3",
   "version": "3.7.12"
  }
 },
 "nbformat": 4,
 "nbformat_minor": 5
}
